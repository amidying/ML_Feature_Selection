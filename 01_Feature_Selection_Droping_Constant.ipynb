{
 "cells": [
  {
   "cell_type": "markdown",
   "id": "7edd6d63-01d1-453f-ab9e-98ded751c562",
   "metadata": {},
   "source": [
    "# Feature Selection 001 - Dropping Constant"
   ]
  },
  {
   "cell_type": "code",
   "execution_count": null,
   "id": "f03a14ef-5126-48d9-b44b-d6f7e579fffc",
   "metadata": {},
   "outputs": [],
   "source": []
  }
 ],
 "metadata": {
  "kernelspec": {
   "display_name": "Python 3 (ipykernel)",
   "language": "python",
   "name": "python3"
  },
  "language_info": {
   "codemirror_mode": {
    "name": "ipython",
    "version": 3
   },
   "file_extension": ".py",
   "mimetype": "text/x-python",
   "name": "python",
   "nbconvert_exporter": "python",
   "pygments_lexer": "ipython3",
   "version": "3.11.2"
  }
 },
 "nbformat": 4,
 "nbformat_minor": 5
}
